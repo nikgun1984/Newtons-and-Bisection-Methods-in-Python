{
 "cells": [
  {
   "cell_type": "code",
   "execution_count": null,
   "metadata": {},
   "outputs": [],
   "source": [
    "#FINDING ROOTS USING BISECTION AND NEWTON'S METHODS\n",
    "from numpy import *\n",
    "from matplotlib.pyplot import plot, show\n",
    "\n",
    "x = arange(-1, 2, 0.01) #get values between -10 and 10 with 0.01 step and set to y\n",
    "y = 2.019**(-x**3)-x**5*np.sin(x**4)-1.984\n",
    "\n",
    "plot(x, y)\n",
    "show()\n",
    "\n",
    "import numpy as np\n",
    "import matplotlib.pyplot as plt\n",
    "\n",
    "def f(x):\n",
    "    return 2.019**(-x**3)-x**5*np.sin(x**4)-1.984\n",
    "def fprime(x):\n",
    "    return -5*(x**4)-4*(x**8)*np.cos(x**4)-2.10781*np.exp(-0.702602*x**3)*x**2\n",
    "def bisection(a,b,tol):\n",
    "    xl = a\n",
    "    xr = b\n",
    "    while(np.abs(xl-xr)>=tol):\n",
    "        c = (xl+xr)/2.0\n",
    "        prod = f(xl)*f(xr)\n",
    "        if prod > tol:\n",
    "            xl = c\n",
    "        else:\n",
    "            if prod < tol:\n",
    "                xr = c\n",
    "    return c\n",
    "def root(guess, interval):\n",
    "    for val in interval:\n",
    "        nextGuess = guess -f(guess)/fprime(guess)\n",
    "        guess = nextGuess\n",
    "    print(\"Root X is \"+str(round(nextGuess,4)))\n",
    "\n",
    "lst = [[-1,-0.8],[1.3,1.4],[1.5,1.6],[1.7,1.8],[1.8,1.9],[1.9,2]]\n",
    "guess = [-0.9,1.37,1.55,1.75,1.85,1.95]\n",
    "lst_len = len(lst)\n",
    "print(\"The roots of our function on [-1,2] are the following:\\n\")\n",
    "for i in range(lst_len):\n",
    "    print(\"Root #\"+str(i)+\":\\n\")\n",
    "    root(guess[i], lst[i])\n",
    "    answer = bisection(lst[i][0],lst[i][1],1e-8)\n",
    "    print(\"Bisection Method gives approximation for the \"+str(i)+\" root x = \"+str(answer)+\"\\n\")\n",
    "    print(\"Rounded bisection method roots are:\"+str(round(answer,4)))"
   ]
  }
 ],
 "metadata": {
  "kernelspec": {
   "display_name": "Python 3",
   "language": "python",
   "name": "python3"
  },
  "language_info": {
   "codemirror_mode": {
    "name": "ipython",
    "version": 3
   },
   "file_extension": ".py",
   "mimetype": "text/x-python",
   "name": "python",
   "nbconvert_exporter": "python",
   "pygments_lexer": "ipython3",
   "version": "3.7.0"
  }
 },
 "nbformat": 4,
 "nbformat_minor": 2
}
